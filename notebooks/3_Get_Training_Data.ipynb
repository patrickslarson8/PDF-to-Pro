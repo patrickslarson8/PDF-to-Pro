{
 "cells": [
  {
   "metadata": {},
   "cell_type": "markdown",
   "source": [
    "## Get Training Data\n",
    "Step 3 is to get the question/answer data to train the model on. We'll use ChatGPT for this."
   ],
   "id": "8b7c552411b3b34c"
  },
  {
   "metadata": {},
   "cell_type": "markdown",
   "source": [
    "## Environment Setup\n",
    "This step uses the following libraries:\n",
    "|Library|License|\n",
    "|-|-|\n",
    "| [python-dotenv](https://github.com/theskumar/python-dotenv) | BSD-3-Clause |\n",
    "| [pydantic](https://github.com/pydantic/pydantic) | MIT |\n",
    "| [OpenAI](https://github.com/openai/openai-python) | Apache 2.0 |"
   ],
   "id": "f8b081ae02ea13a7"
  },
  {
   "cell_type": "code",
   "id": "initial_id",
   "metadata": {
    "collapsed": true,
    "ExecuteTime": {
     "end_time": "2025-05-21T17:19:32.574594Z",
     "start_time": "2025-05-21T17:19:32.274392Z"
    }
   },
   "source": [
    "import os, json\n",
    "from pathlib import Path\n",
    "\n",
    "from openai import OpenAI\n",
    "from dotenv import load_dotenv\n",
    "from pydantic import BaseModel"
   ],
   "outputs": [],
   "execution_count": 1
  },
  {
   "metadata": {
    "ExecuteTime": {
     "end_time": "2025-05-21T17:21:10.875083Z",
     "start_time": "2025-05-21T17:21:10.872930Z"
    }
   },
   "cell_type": "code",
   "source": [
    "load_dotenv()\n",
    "OAI_KEY = os.environ[\"PAT_API_KEY\"]"
   ],
   "id": "75e9c74761480d04",
   "outputs": [],
   "execution_count": 12
  },
  {
   "metadata": {
    "ExecuteTime": {
     "end_time": "2025-05-21T17:20:01.916720Z",
     "start_time": "2025-05-21T17:20:01.914665Z"
    }
   },
   "cell_type": "code",
   "source": [
    "CHUNKED_JSONL = Path(\"FM5_0/QuantFactory/Llama-3.2-1B-GGUF/data/chunked/chunked.jsonl\")\n",
    "N_PASSAGES    = 30\n",
    "OPENAI_MODEL  = \"gpt-4o-mini\""
   ],
   "id": "af129829823a31ab",
   "outputs": [],
   "execution_count": 6
  },
  {
   "metadata": {
    "ExecuteTime": {
     "end_time": "2025-05-21T17:20:02.598467Z",
     "start_time": "2025-05-21T17:20:02.593382Z"
    }
   },
   "cell_type": "code",
   "source": [
    "passages = []\n",
    "with CHUNKED_JSONL.open() as f:\n",
    "    for line in f:\n",
    "        passages.append(json.loads(line)[\"text\"])"
   ],
   "id": "8750a8ccb3b57065",
   "outputs": [],
   "execution_count": 7
  },
  {
   "metadata": {},
   "cell_type": "markdown",
   "source": "Using OpenAI's structured API, we can leverage Pydantic classes to make sure our response adheres to a format. This is a simple question/answer format.",
   "id": "4530a316eafc4e55"
  },
  {
   "metadata": {
    "ExecuteTime": {
     "end_time": "2025-05-21T17:20:04.206884Z",
     "start_time": "2025-05-21T17:20:04.203384Z"
    }
   },
   "cell_type": "code",
   "source": [
    "class QA(BaseModel):\n",
    "    question: str\n",
    "    answer: str"
   ],
   "id": "b6477d35563d55f3",
   "outputs": [],
   "execution_count": 8
  },
  {
   "metadata": {},
   "cell_type": "markdown",
   "source": "Now log in and set the basic settings.",
   "id": "678ad8eec997bdcd"
  },
  {
   "metadata": {
    "ExecuteTime": {
     "end_time": "2025-05-21T17:21:14.124401Z",
     "start_time": "2025-05-21T17:21:14.079422Z"
    }
   },
   "cell_type": "code",
   "source": "client = OpenAI(api_key=OAI_KEY)",
   "id": "d3a340c72fa3008b",
   "outputs": [],
   "execution_count": 13
  },
  {
   "metadata": {
    "ExecuteTime": {
     "end_time": "2025-05-21T17:21:15.972499Z",
     "start_time": "2025-05-21T17:21:15.969996Z"
    }
   },
   "cell_type": "code",
   "source": [
    "TEMPERATURE   = 0.4\n",
    "PROMPT        = (\"Read the passage and emit exactly ONE question/answer pair with source information: \"\n",
    "                 \"question – a factual question (5‑25 words). \"\n",
    "                 \"answer – verbatim answer text from the passage (≤ 50 words).\")"
   ],
   "id": "8c8eae51f042a97e",
   "outputs": [],
   "execution_count": 14
  },
  {
   "metadata": {},
   "cell_type": "markdown",
   "source": "And get a response to see if it's right.",
   "id": "4dacb3437c39f97e"
  },
  {
   "metadata": {
    "ExecuteTime": {
     "end_time": "2025-05-21T17:21:20.112488Z",
     "start_time": "2025-05-21T17:21:16.983758Z"
    }
   },
   "cell_type": "code",
   "source": [
    "resp = client.responses.parse(\n",
    "                model=OPENAI_MODEL,\n",
    "                input = [\n",
    "                    {\n",
    "                        \"role\": \"system\",\n",
    "                        \"content\": PROMPT\n",
    "                    },\n",
    "                    {\n",
    "                        \"role\": \"user\",\n",
    "                        \"content\": passages[0]\n",
    "                    }\n",
    "                ],\n",
    "                text_format=QA\n",
    ")\n"
   ],
   "id": "76ccc9b1496affe7",
   "outputs": [],
   "execution_count": 15
  },
  {
   "metadata": {
    "ExecuteTime": {
     "end_time": "2025-05-21T17:21:21.071714Z",
     "start_time": "2025-05-21T17:21:21.069129Z"
    }
   },
   "cell_type": "code",
   "source": "print(resp.output_parsed)",
   "id": "39579edc259564d9",
   "outputs": [
    {
     "name": "stdout",
     "output_type": "stream",
     "text": [
      "question='What is FM 5-0?' answer=\"FM 5-0, Planning and Orders Production, is the Army's comprehensive reference manual for planning.\"\n"
     ]
    }
   ],
   "execution_count": 16
  }
 ],
 "metadata": {
  "kernelspec": {
   "display_name": "Python 3",
   "language": "python",
   "name": "python3"
  },
  "language_info": {
   "codemirror_mode": {
    "name": "ipython",
    "version": 2
   },
   "file_extension": ".py",
   "mimetype": "text/x-python",
   "name": "python",
   "nbconvert_exporter": "python",
   "pygments_lexer": "ipython2",
   "version": "2.7.6"
  }
 },
 "nbformat": 4,
 "nbformat_minor": 5
}
