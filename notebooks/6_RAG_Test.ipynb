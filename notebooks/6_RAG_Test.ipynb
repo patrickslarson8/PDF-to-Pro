{
 "cells": [
  {
   "cell_type": "code",
   "id": "initial_id",
   "metadata": {
    "collapsed": true,
    "ExecuteTime": {
     "end_time": "2025-05-16T16:50:10.957863Z",
     "start_time": "2025-05-16T16:50:10.955762Z"
    }
   },
   "source": [
    "import chromadb\n",
    "import json\n",
    "from pathlib import Path\n",
    "from peft import AutoPeftModelForCausalLM, PeftConfig\n",
    "from transformers import AutoTokenizer\n",
    "import torch"
   ],
   "outputs": [],
   "execution_count": 21
  },
  {
   "metadata": {
    "ExecuteTime": {
     "end_time": "2025-05-16T16:36:19.943643Z",
     "start_time": "2025-05-16T16:36:19.791577Z"
    }
   },
   "cell_type": "code",
   "source": [
    "client = chromadb.Client()\n",
    "collection = client.create_collection(name=\"fm5_0\")"
   ],
   "id": "28df4910e7321231",
   "outputs": [],
   "execution_count": 2
  },
  {
   "metadata": {
    "ExecuteTime": {
     "end_time": "2025-05-16T16:36:56.499164Z",
     "start_time": "2025-05-16T16:36:56.490972Z"
    }
   },
   "cell_type": "code",
   "source": [
    "chunks = []\n",
    "DOCUMENT    = \"FM5_0\"\n",
    "PDF_PATH    = Path(\"pdfs/raw/fm5-0.pdf\")\n",
    "BASE_MODEL  = Path(\"QuantFactory/Llama-3.2-1B-GGUF\")\n",
    "GGUF_FILE   = \"Llama-3.2-1B.Q8_0.gguf\"\n",
    "CACHE_DIR   = \"hf_cache\"\n",
    "\n",
    "MODEL_DIR    = DOCUMENT / BASE_MODEL / \"lora\"\n",
    "DATA_DIR     = DOCUMENT / BASE_MODEL / \"data\"\n",
    "CHUNKED_DATA = DATA_DIR / \"chunked\"  / \"chunked.jsonl\"\n",
    "with open(CHUNKED_DATA, \"r\", encoding=\"utf-8\") as f:\n",
    "    for line in f:\n",
    "        chunks.append(json.loads(line))"
   ],
   "id": "4a7177eea128c352",
   "outputs": [],
   "execution_count": 4
  },
  {
   "metadata": {
    "ExecuteTime": {
     "end_time": "2025-05-16T16:38:15.047155Z",
     "start_time": "2025-05-16T16:37:04.326809Z"
    }
   },
   "cell_type": "code",
   "source": [
    "for chunk in chunks:\n",
    "    collection.add(\n",
    "        documents=[chunk[\"text\"]],\n",
    "        metadatas=[{\n",
    "            \"section_hierarchy\": \"/\".join(chunk[\"section_hierarchy\"]),\n",
    "            \"page_start\": chunk[\"page_start\"],\n",
    "            \"page_end\": chunk[\"page_end\"],\n",
    "            \"chunk_id\": chunk[\"chunk_id\"]\n",
    "        }],\n",
    "        ids=[chunk[\"chunk_id\"]]\n",
    "    )"
   ],
   "id": "a7aa0efd9db69c93",
   "outputs": [
    {
     "name": "stderr",
     "output_type": "stream",
     "text": [
      "/home/pat/.cache/chroma/onnx_models/all-MiniLM-L6-v2/onnx.tar.gz: 100%|██████████| 79.3M/79.3M [00:03<00:00, 23.9MiB/s]\n"
     ]
    }
   ],
   "execution_count": 5
  },
  {
   "metadata": {
    "ExecuteTime": {
     "end_time": "2025-05-16T16:39:24.094601Z",
     "start_time": "2025-05-16T16:39:24.092Z"
    }
   },
   "cell_type": "code",
   "source": [
    "def retrieve_relevant_chunks(query, n=3):\n",
    "    results = collection.query(\n",
    "        query_texts=[query],\n",
    "        n_results=n\n",
    "    )\n",
    "\n",
    "    contexts = []\n",
    "    for i, doc in enumerate(results[\"documents\"][0]):\n",
    "        metadata = results[\"metadatas\"][0][i]\n",
    "        context = f\"Section: {metadata['section_hierarchy']}\\n\\n{doc}\"\n",
    "        contexts.append(context)\n",
    "\n",
    "    return contexts"
   ],
   "id": "9497b949b2c10b2f",
   "outputs": [],
   "execution_count": 15
  },
  {
   "metadata": {
    "ExecuteTime": {
     "end_time": "2025-05-16T16:49:55.517232Z",
     "start_time": "2025-05-16T16:49:55.514220Z"
    }
   },
   "cell_type": "code",
   "source": [
    "sys_prompt = f\" You are an FM-5-0 assistant. Concisely answer the following question.\"\n",
    "sys_role = \"system\"\n",
    "usr_role = \"user\"\n",
    "bot_role = \"assistant\"\n",
    "bos_tok = \"<|begin_of_text|>\"\n",
    "eot_id_tok = \"<|eot_id|>\"\n",
    "start_hd_tok = \"<|start_header_id|>\"\n",
    "end_hd_tok = \"<|end_header_id|>\"\n",
    "eot_tok = \"<|end_of_text|>\"\n",
    "\n",
    "\n",
    "def build_prompt(sys, context, usr, ans=None):\n",
    "    prompt = f\"{bos_tok}\"\n",
    "    prompt += f\"{start_hd_tok}{sys_role}{end_hd_tok}{context}{sys}{eot_id_tok}\"\n",
    "    prompt += f\"{start_hd_tok}{usr_role}{end_hd_tok}{usr}{eot_id_tok}\"\n",
    "    prompt += f\"{start_hd_tok}{bot_role}{end_hd_tok}\"\n",
    "\n",
    "    if ans is not None:\n",
    "        prompt += f\"{ans}{eot_id_tok}{eot_tok}\"\n",
    "\n",
    "    return prompt"
   ],
   "id": "e9568bb0c0792311",
   "outputs": [],
   "execution_count": 17
  },
  {
   "metadata": {
    "ExecuteTime": {
     "end_time": "2025-05-16T16:49:58.950264Z",
     "start_time": "2025-05-16T16:49:58.607323Z"
    }
   },
   "cell_type": "code",
   "source": "tok = AutoTokenizer.from_pretrained(MODEL_DIR)",
   "id": "8bee03eba36fc36b",
   "outputs": [],
   "execution_count": 18
  },
  {
   "metadata": {
    "ExecuteTime": {
     "end_time": "2025-05-16T16:52:11.380820Z",
     "start_time": "2025-05-16T16:51:45.872698Z"
    }
   },
   "cell_type": "code",
   "source": [
    "peft_config = PeftConfig.from_pretrained(MODEL_DIR)\n",
    "\n",
    "model = AutoPeftModelForCausalLM.from_pretrained(\n",
    "    MODEL_DIR,\n",
    "    config=peft_config,\n",
    "    cache_dir=CACHE_DIR,\n",
    "    gguf_file=GGUF_FILE,\n",
    "    device_map=\"auto\",\n",
    "    torch_dtype=torch.float16)\n",
    "model.gradient_checkpointing_enable()\n",
    "model.use_cache = False"
   ],
   "id": "39e67bdcf9096b7b",
   "outputs": [
    {
     "data": {
      "text/plain": [
       "Converting and de-quantizing GGUF tensors...:   0%|          | 0/147 [00:00<?, ?it/s]"
      ],
      "application/vnd.jupyter.widget-view+json": {
       "version_major": 2,
       "version_minor": 0,
       "model_id": "f32fb2aaa24d45afa0a3d6f0258b5c86"
      }
     },
     "metadata": {},
     "output_type": "display_data"
    }
   ],
   "execution_count": 25
  },
  {
   "metadata": {
    "ExecuteTime": {
     "end_time": "2025-05-16T16:52:36.627643Z",
     "start_time": "2025-05-16T16:52:36.624877Z"
    }
   },
   "cell_type": "code",
   "source": [
    "def generate_answer(query, contexts):\n",
    "    # Combine contexts\n",
    "    combined_context = \"\\n\\n\".join(contexts)\n",
    "\n",
    "    # Create prompt\n",
    "    prompt = build_prompt(sys_role, combined_context, query)\n",
    "\n",
    "    # Generate response\n",
    "    inputs = tok(prompt, return_tensors=\"pt\").to(model.device)\n",
    "    outputs = model.generate(**inputs, max_new_tokens=256, temperature=0.2)\n",
    "    response = tok.decode(outputs[0][inputs.input_ids.shape[-1]:], skip_special_tokens=True)\n",
    "\n",
    "    return response"
   ],
   "id": "59c4fb50f3ffaf25",
   "outputs": [],
   "execution_count": 26
  },
  {
   "metadata": {
    "ExecuteTime": {
     "end_time": "2025-05-16T16:53:45.837495Z",
     "start_time": "2025-05-16T16:53:45.835019Z"
    }
   },
   "cell_type": "code",
   "source": [
    "def rag_pipeline(query):\n",
    "    # Step 1: Retrieve relevant contexts\n",
    "    contexts = retrieve_relevant_chunks(query)\n",
    "    print(contexts)\n",
    "\n",
    "    # Step 2: Generate answer using those contexts\n",
    "    answer = generate_answer(query, contexts)\n",
    "    print(answer)\n",
    "\n",
    "    return answer"
   ],
   "id": "81f0ead778eb5dfc",
   "outputs": [],
   "execution_count": 31
  },
  {
   "metadata": {
    "ExecuteTime": {
     "end_time": "2025-05-16T16:54:11.187909Z",
     "start_time": "2025-05-16T16:54:07.472238Z"
    }
   },
   "cell_type": "code",
   "source": [
    "query = \"What are CCIRs?\"\n",
    "r = rag_pipeline(query)"
   ],
   "id": "e5f1e1dc24d9d047",
   "outputs": [
    {
     "name": "stderr",
     "output_type": "stream",
     "text": [
      "Setting `pad_token_id` to `eos_token_id`:128001 for open-end generation.\n"
     ]
    },
    {
     "name": "stdout",
     "output_type": "stream",
     "text": [
      "['Section: Chapter 1/Fundamentals of Planning/The Functions of Planning/Anticipate Events/Operational Variables\\n\\none or more decisions.\\nDuring planning, staffs recommend information requirements for commanders to designate as CCIRs.\\nRefinement of CCIRs is continuous throughout an operation. During preparation and execution, staffs\\nrecommend changes to CCIRs based on their assessments of the operation.\\n1-93. Promulgated by a plan or order, commanders limit the number of CCIRs to focus the efforts of limited\\ncollection assets. The fewer the CCIRs, the easier it is for staffs to remember, recognize, and act on each one.\\nCCIRs constantly change. Commanders add and delete them throughout an operation based on the\\ninformation needed for specific decisions. They determine their own CCIRs and select some from staff\\nnominations. Once approved, a CCIR falls into one of two categories: priority intelligence requirements\\n(PIRs) and friendly force information requirements (FFIRs).\\n\\nFundamentals of Planning \\n04 November 2024 FM 5-0 19 \\n1-94. A priority intelligence requirement is the intelligence component of commander’s critical information\\nrequirements used to focus the employment of limited intelligence assets and resources against competing\\ndemands for intelligence support (JP 2- 0). PIRs identify the information about the enemy and other aspects\\nof an OE that the commander considers most important. Intelligence about civil considerations may be as\\ncritical as intelligence about the enemy. For example, this may include information that confirms an enemy\\ncapability.\\n1-95. A friendly force information requirement  is information the commander and staff need to understand\\nthe status of friendly force and supporting capabilities (JP 3- 0). FFIRs identify the information about the\\nmission, troops and support available, and time available for friendly forces that the commander considers\\nmost important to mission accomplishment. (See ADP 6-0 for more information on FFIR.)\\n1-96. Commanders also describe information they want protected as  essential elements of friendly\\ninformation (EEFIs). An essential element of friendly information  is a critical aspect of a friendly operation\\nthat, if known by a threat, would subsequently compromise, lead to failure, or limit success of the operation\\nand therefore should be protected from enemy detection (ADP 6-0). Although EEFIs are not CCIRs, they\\nhave the same priority. EEFIs establish elements of information to protect rather than elements to collect.\\n(See AD', 'Section: Chapter 5/The Military Decision-Making Process/Overview of the Military Decision-Making Process/Commander, Staff, And Subordinate Headquarters Interaction/Role of the Commander/Tempo\\n\\nart.)\\n5-46. Risk management is the process to identify, assess, and mitigate risks and make decisions that balance\\nrisk cost with mission benefits (JP 3-0). During mission analysis, commanders and staffs focus on identifying\\nand assessing risks to the mission and risks to force. When considering how much risk to accept, commanders \\nneed to balance the tension between protecting the force and accepting risks that must be taken to accomplish\\ntheir mission. They develop specific control measures to mitigate those hazards d uring COA development.\\nThe risk management process, typically done by the operations officer, planner, or safety officer consists of\\nthe following steps:\\n• Identify hazards.\\n• Assess hazards.\\n• Develop controls and make risk decisions.\\n• Implement controls.\\n• Supervise and evaluate.\\n(See Appendix G for more information on risk management during planning.) \\nDevelop Initial CCIRs and EEFIs \\n5-47. A CCIR is an information requirement the commander identifies as being critical to facilitating timely\\ndecision making. CCIRs are situation-dependent and specified by the commander for each operation. During\\nmission analysis, the staff identifies gaps in information required for further planning and decision making\\nduring preparation and execution. These gaps may become information requirements. Some information\\nrequirements are of such importance that staffs recommend them to the commander to become a CCIR. All\\ns\\ntaff sections can recommend CCIRs to the commander. The intelligence officer consolidates and manages\\nPIRs for the commander, and the operations officer consolidates and manages friendly force information\\nrequirements (FFIRs). All remaining information requirements which are not CCIRs are managed by the\\nappropriate staff section.\\n5-48. Commanders continuously review CCIRs and adjust them as the situation changes. The initial CCIRs\\ndeveloped during mission analysis focus on information gaps a commander needs to understand to assist i n\\np\\nlanning. Once a COA is selected, CCIRs generally shift to identifying and informing decision points during\\noperations. Typically, commanders seek to minimize the number of CCIRs to assist in prioritizing the\\nallocation of limited resources. A CCIR is—\\n• Specified by a commander for a specific operation.\\n• Applicable only to the commander who specifies it.\\n• Situation dependent and directly linked to a current or future mission.\\n• Time sensitive.\\n• A critical input to the decision support template (DST) and decision', 'Section: Chapter 5/The Military Decision-Making Process/Overview of the Military Decision-Making Process/Commander, Staff, And Subordinate Headquarters Interaction/Role of the Commander/Tempo\\n\\nsupport matrix (DSM).\\n5-49. In addition to recommending CCIRs to the commander, the staff also identifies and recommends\\nessential elements of friendly information ( EEFIs). EEFIs  identify those elements of friendly force\\ninformation that, if compromised, would jeopardize mission success and therefore need to be protected. Their \\nidentification is the first step in the operations security (OPSEC) process which is used to develop mea sures\\nt\\no protect EEFIs from compromise. Although EEFIs are not CCIRs, they have the same priority as CCIRs,\\nand they require approval by the commander. Like CCIRs, EEFIs may change as an operation progresses.\\nChapter 5 \\n90 FM 5-0 04 November 2024 \\n5-50. Depending on the situation, the commander and select staff members may meet prior to the mission\\nanalysis brief to review and approve the initial CCIRs and EEFIs. This is especially important if the\\ncommander intends to conduct information collection early in the planning process. The approval of the\\ninitial CCIRs early during planning assists the staff in developing the initial information collection plan.\\nApproval of an EEFI allows the staff to begin planning and implementing measures to protect friendly force\\ninformation, such as military deceptions and OPSEC measures.\\nDevelop the Initial Information Collection Plan \\n5-51. Information collection is an activity that synchronizes and integrates the planning and employment of\\nsensors and assets as well as the processing, exploitation, and dissemination systems in direct support of\\ncurrent and future operations (FM 3-55). An initial information colle ction plan relies on information gaps\\nidentified during IPOE to identify information collection requirements. Initial collection efforts are\\nprioritized to answer initial CCIRs before answering the remaining information requirements.\\n5-52. The initial information collection plan is crucial to help answer CCIRs and other information\\nrequirements necessary in developing effective plans and orders to execute operations. The intelligence staff\\nevaluates significant characteristics to identify gaps and initiate information collection efforts. The initial\\ninformation collection plan sets reconnaissance, surveillance, security, and intelligence operations in motion.\\nThe initial information collected and analyzed is then incorporated into COA development to further refine\\nand develop the plan. As more information is analyzed, and CCIRs are updated, a fully developed and\\ncomplete information collection plan (Annex L) is incorporated into the order or plan.']\n",
      "\n",
      "\n",
      "5-53. The initial information collection plan is developed in conjunction with the initial information collection\n",
      "plan. The initial information collection plan is developed to answer the initial information requirements\n",
      "identified in the initial COA. The initial information collection plan is developed to answer the initial\n",
      "information requirements identified in the initial COA. The initial information collection plan is developed to\n",
      "answer the initial information requirements identified in the initial COA. The initial information collection plan\n",
      "is developed to answer the initial information requirements identified in the initial COA. The initial information\n",
      "collection plan is developed to answer the initial information requirements identified in the initial COA. The initial\n",
      "information collection plan is developed to answer the initial information requirements identified in the initial COA.\n",
      "5-54. The initial information collection plan is developed to answer the initial information requirements identified\n",
      "in the initial COA. The initial information collection plan is developed to answer the initial information\n",
      "requirements identified in the initial COA. The initial information collection plan is developed to answer the\n",
      "initial information requirements identified in the initial COA. The initial information collection plan is developed\n",
      "to answer the initial information requirements identified in the initial COA.\n",
      "5-55. The initial information collection plan is developed to answer the initial information requirements\n"
     ]
    }
   ],
   "execution_count": 33
  },
  {
   "metadata": {},
   "cell_type": "code",
   "outputs": [],
   "execution_count": null,
   "source": "",
   "id": "c813bca774d140ee"
  }
 ],
 "metadata": {
  "kernelspec": {
   "display_name": "Python 3",
   "language": "python",
   "name": "python3"
  },
  "language_info": {
   "codemirror_mode": {
    "name": "ipython",
    "version": 2
   },
   "file_extension": ".py",
   "mimetype": "text/x-python",
   "name": "python",
   "nbconvert_exporter": "python",
   "pygments_lexer": "ipython2",
   "version": "2.7.6"
  }
 },
 "nbformat": 4,
 "nbformat_minor": 5
}
